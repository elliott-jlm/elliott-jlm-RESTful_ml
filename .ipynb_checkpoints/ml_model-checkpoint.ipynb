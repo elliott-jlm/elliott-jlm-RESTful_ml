{
 "cells": [
  {
   "cell_type": "code",
   "execution_count": 17,
   "id": "e4ba398f",
   "metadata": {},
   "outputs": [],
   "source": [
    "import pandas as pd\n",
    "import tensorflow as tf\n",
    "from tensorflow import keras\n",
    "import numpy as np\n",
    "\n",
    "import pickle"
   ]
  },
  {
   "cell_type": "code",
   "execution_count": 2,
   "id": "4b364a86",
   "metadata": {},
   "outputs": [],
   "source": [
    "data_train1 = pd.read_csv('./data/fashion-mnist-train-1.csv')\n",
    "data_train2 = pd.read_csv('./data/fashion-mnist-train-2.csv')\n",
    "data_test = pd.read_csv('./data/fashion-mnist_test.csv')"
   ]
  },
  {
   "cell_type": "code",
   "execution_count": 3,
   "id": "386fd14e",
   "metadata": {},
   "outputs": [],
   "source": [
    "# Load the train data from the csv file\n",
    "x_train = data_train1.drop(\"label\", axis=1).values\n",
    "y_train = data_train1[\"label\"].values\n",
    "\n",
    "# Load the test data from the csv file\n",
    "x_test = data_test.drop(\"label\", axis=1).values\n",
    "y_test = data_test[\"label\"].values\n",
    "\n",
    "# Preprocess the data\n",
    "x_train = x_train.reshape(x_train.shape[0], 28, 28, 1)\n",
    "x_test = x_test.reshape(x_test.shape[0], 28, 28, 1)\n",
    "x_train, x_test = x_train / 255.0, x_test / 255.0"
   ]
  },
  {
   "cell_type": "code",
   "execution_count": 4,
   "id": "37361834",
   "metadata": {
    "scrolled": true
   },
   "outputs": [
    {
     "name": "stdout",
     "output_type": "stream",
     "text": [
      "Epoch 1/5\n",
      "469/469 [==============================] - 17s 28ms/step - loss: 0.5564 - accuracy: 0.8011\n",
      "Epoch 2/5\n",
      "469/469 [==============================] - 17s 35ms/step - loss: 0.3637 - accuracy: 0.8701\n",
      "Epoch 3/5\n",
      "469/469 [==============================] - 15s 33ms/step - loss: 0.3031 - accuracy: 0.8915\n",
      "Epoch 4/5\n",
      "469/469 [==============================] - 18s 39ms/step - loss: 0.2570 - accuracy: 0.9093\n",
      "Epoch 5/5\n",
      "469/469 [==============================] - 15s 32ms/step - loss: 0.2187 - accuracy: 0.9221\n",
      "313/313 [==============================] - 5s 14ms/step - loss: 0.3053 - accuracy: 0.8941\n",
      "Test Accuracy: 0.89410001039505\n"
     ]
    }
   ],
   "source": [
    "# Build the model\n",
    "model = keras.Sequential([\n",
    "    keras.layers.Conv2D(32, 3, activation='relu', input_shape=(28, 28, 1)),\n",
    "    keras.layers.MaxPooling2D(),\n",
    "    keras.layers.Flatten(),\n",
    "    keras.layers.Dense(128, activation='relu'),\n",
    "    keras.layers.Dense(10, activation='softmax')\n",
    "])\n",
    "\n",
    "# Compile the model\n",
    "model.compile(optimizer='adam', loss='sparse_categorical_crossentropy', metrics=['accuracy'])\n",
    "\n",
    "# Train the model\n",
    "model.fit(x_train, y_train, epochs=5)\n",
    "\n",
    "# Evaluate the model\n",
    "test_loss, test_acc = model.evaluate(x_test, y_test)\n",
    "print('Test Accuracy:', test_acc)"
   ]
  },
  {
   "cell_type": "code",
   "execution_count": 14,
   "id": "c3b55050",
   "metadata": {},
   "outputs": [
    {
     "name": "stdout",
     "output_type": "stream",
     "text": [
      "Keras weights file (<HDF5 file \"variables.h5\" (mode r+)>) saving:\n",
      "...layers\\conv2d\n",
      "......vars\n",
      ".........0\n",
      ".........1\n",
      "...layers\\dense\n",
      "......vars\n",
      ".........0\n",
      ".........1\n",
      "...layers\\dense_1\n",
      "......vars\n",
      ".........0\n",
      ".........1\n",
      "...layers\\flatten\n",
      "......vars\n",
      "...layers\\max_pooling2d\n",
      "......vars\n",
      "...metrics\\mean\n",
      "......vars\n",
      ".........0\n",
      ".........1\n",
      "...metrics\\mean_metric_wrapper\n",
      "......vars\n",
      ".........0\n",
      ".........1\n",
      "...optimizer\n",
      "......vars\n",
      ".........0\n",
      ".........1\n",
      ".........10\n",
      ".........11\n",
      ".........12\n",
      ".........2\n",
      ".........3\n",
      ".........4\n",
      ".........5\n",
      ".........6\n",
      ".........7\n",
      ".........8\n",
      ".........9\n",
      "...vars\n",
      "Keras model archive saving:\n",
      "File Name                                             Modified             Size\n",
      "config.json                                    2023-01-31 15:26:52         2323\n",
      "metadata.json                                  2023-01-31 15:26:52           64\n",
      "variables.h5                                   2023-01-31 15:26:52      8353472\n"
     ]
    }
   ],
   "source": [
    "# Save the model to a file\n",
    "with open('model.pkl', 'wb') as file:\n",
    "    pickle.dump(model, file)"
   ]
  }
 ],
 "metadata": {
  "kernelspec": {
   "display_name": "Python 3 (ipykernel)",
   "language": "python",
   "name": "python3"
  },
  "language_info": {
   "codemirror_mode": {
    "name": "ipython",
    "version": 3
   },
   "file_extension": ".py",
   "mimetype": "text/x-python",
   "name": "python",
   "nbconvert_exporter": "python",
   "pygments_lexer": "ipython3",
   "version": "3.10.0"
  }
 },
 "nbformat": 4,
 "nbformat_minor": 5
}
