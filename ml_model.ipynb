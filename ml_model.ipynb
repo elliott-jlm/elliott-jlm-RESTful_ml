{
 "cells": [
  {
   "cell_type": "code",
   "execution_count": 1,
   "id": "e4ba398f",
   "metadata": {},
   "outputs": [],
   "source": [
    "import pandas as pd\n",
    "import tensorflow as tf\n",
    "from tensorflow import keras\n",
    "import numpy as np\n",
    "\n",
    "import pickle"
   ]
  },
  {
   "cell_type": "code",
   "execution_count": 2,
   "id": "4b364a86",
   "metadata": {},
   "outputs": [],
   "source": [
    "data_train1 = pd.read_csv('./data/fashion-mnist-train-1.csv')\n",
    "data_train2 = pd.read_csv('./data/fashion-mnist-train-2.csv')\n",
    "data_test = pd.read_csv('./data/fashion-mnist_test.csv')"
   ]
  },
  {
   "cell_type": "code",
   "execution_count": 3,
   "id": "386fd14e",
   "metadata": {},
   "outputs": [],
   "source": [
    "# Load the train data from the csv file\n",
    "x_train = data_train1.drop(\"label\", axis=1).values\n",
    "y_train = data_train1[\"label\"].values\n",
    "\n",
    "# Load the test data from the csv file\n",
    "x_test = data_test.drop(\"label\", axis=1).values\n",
    "y_test = data_test[\"label\"].values\n",
    "\n",
    "# Preprocess the data\n",
    "x_train = x_train.reshape(x_train.shape[0], 28, 28, 1)\n",
    "x_test = x_test.reshape(x_test.shape[0], 28, 28, 1)\n",
    "x_train, x_test = x_train / 255.0, x_test / 255.0"
   ]
  },
  {
   "cell_type": "code",
   "execution_count": 4,
   "id": "37361834",
   "metadata": {
    "scrolled": true
   },
   "outputs": [
    {
     "name": "stdout",
     "output_type": "stream",
     "text": [
      "Epoch 1/5\n",
      "469/469 [==============================] - 20s 28ms/step - loss: 0.5595 - accuracy: 0.8003\n",
      "Epoch 2/5\n",
      "469/469 [==============================] - 13s 28ms/step - loss: 0.3759 - accuracy: 0.8663\n",
      "Epoch 3/5\n",
      "469/469 [==============================] - 12s 26ms/step - loss: 0.3048 - accuracy: 0.8898\n",
      "Epoch 4/5\n",
      "469/469 [==============================] - 12s 25ms/step - loss: 0.2618 - accuracy: 0.9059\n",
      "Epoch 5/5\n",
      "469/469 [==============================] - 12s 25ms/step - loss: 0.2294 - accuracy: 0.9150\n",
      "313/313 [==============================] - 3s 8ms/step - loss: 0.3229 - accuracy: 0.8849\n",
      "Test Accuracy: 0.8848999738693237\n"
     ]
    }
   ],
   "source": [
    "# Build the model\n",
    "model = keras.Sequential([\n",
    "    keras.layers.Conv2D(32, 3, activation='relu', input_shape=(28, 28, 1)),\n",
    "    keras.layers.MaxPooling2D(),\n",
    "    keras.layers.Flatten(),\n",
    "    keras.layers.Dense(128, activation='relu'),\n",
    "    keras.layers.Dense(10, activation='softmax')\n",
    "])\n",
    "\n",
    "# Compile the model\n",
    "model.compile(optimizer='adam', loss='sparse_categorical_crossentropy', metrics=['accuracy'])\n",
    "\n",
    "# Train the model\n",
    "model.fit(x_train, y_train, epochs=5)\n",
    "\n",
    "# Evaluate the model\n",
    "test_loss, test_acc = model.evaluate(x_test, y_test)\n",
    "print('Test Accuracy:', test_acc)"
   ]
  },
  {
   "cell_type": "code",
   "execution_count": 5,
   "id": "0e45560b",
   "metadata": {},
   "outputs": [],
   "source": [
    "model.save('./model.h5')"
   ]
  }
 ],
 "metadata": {
  "kernelspec": {
   "display_name": "Python 3 (ipykernel)",
   "language": "python",
   "name": "python3"
  },
  "language_info": {
   "codemirror_mode": {
    "name": "ipython",
    "version": 3
   },
   "file_extension": ".py",
   "mimetype": "text/x-python",
   "name": "python",
   "nbconvert_exporter": "python",
   "pygments_lexer": "ipython3",
   "version": "3.10.0"
  }
 },
 "nbformat": 4,
 "nbformat_minor": 5
}
