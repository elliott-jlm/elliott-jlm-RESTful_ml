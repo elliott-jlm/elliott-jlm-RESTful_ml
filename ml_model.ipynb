{
 "cells": [
  {
   "cell_type": "code",
   "execution_count": 1,
   "id": "e4ba398f",
   "metadata": {},
   "outputs": [],
   "source": [
    "import pandas as pd\n",
    "import tensorflow as tf\n",
    "from tensorflow import keras\n",
    "import numpy as np"
   ]
  },
  {
   "cell_type": "code",
   "execution_count": 2,
   "id": "4b364a86",
   "metadata": {},
   "outputs": [],
   "source": [
    "data_train1 = pd.read_csv('./data/fashion-mnist-train-1.csv')\n",
    "data_train2 = pd.read_csv('./data/fashion-mnist-train-2.csv')\n",
    "data_test = pd.read_csv('./data/fashion-mnist_test.csv')"
   ]
  },
  {
   "cell_type": "code",
   "execution_count": 3,
   "id": "386fd14e",
   "metadata": {},
   "outputs": [],
   "source": [
    "# Load the train data from the csv file\n",
    "x_train = data_train1.drop(\"label\", axis=1).values\n",
    "y_train = data_train1[\"label\"].values\n",
    "\n",
    "# Load the test data from the csv file\n",
    "x_test = data_test.drop(\"label\", axis=1).values\n",
    "y_test = data_test[\"label\"].values\n",
    "\n",
    "# Preprocess the data\n",
    "x_train, x_test = x_train / 255.0, x_test / 255.0"
   ]
  },
  {
   "cell_type": "code",
   "execution_count": 4,
   "id": "37361834",
   "metadata": {
    "scrolled": true
   },
   "outputs": [
    {
     "name": "stdout",
     "output_type": "stream",
     "text": [
      "Epoch 1/5\n",
      "469/469 [==============================] - 3s 4ms/step - loss: 0.6485 - accuracy: 0.7763\n",
      "Epoch 2/5\n",
      "469/469 [==============================] - 2s 4ms/step - loss: 0.4580 - accuracy: 0.8369\n",
      "Epoch 3/5\n",
      "469/469 [==============================] - 2s 4ms/step - loss: 0.4100 - accuracy: 0.8527\n",
      "Epoch 4/5\n",
      "469/469 [==============================] - 2s 4ms/step - loss: 0.3833 - accuracy: 0.8623\n",
      "Epoch 5/5\n",
      "469/469 [==============================] - 2s 4ms/step - loss: 0.3593 - accuracy: 0.8706\n",
      "313/313 [==============================] - 1s 2ms/step - loss: 0.4061 - accuracy: 0.8501\n",
      "Test Accuracy: 0.8500999808311462\n"
     ]
    }
   ],
   "source": [
    "# Build the model \n",
    "model = tf.keras.models.Sequential([\n",
    "  tf.keras.layers.Flatten(input_shape=(28 * 28,)),\n",
    "  tf.keras.layers.Dense(128, activation='relu'),\n",
    "  tf.keras.layers.Dense(10, activation='softmax')\n",
    "])\n",
    "\n",
    "# Compile the model\n",
    "model.compile(optimizer='adam', loss='sparse_categorical_crossentropy', metrics=['accuracy'])\n",
    "\n",
    "# Train the model\n",
    "model.fit(x_train, y_train, epochs=5)\n",
    "\n",
    "# Evaluate the model\n",
    "test_loss, test_acc = model.evaluate(x_test, y_test)\n",
    "print('Test Accuracy:', test_acc)"
   ]
  },
  {
   "cell_type": "code",
   "execution_count": 5,
   "id": "0e45560b",
   "metadata": {},
   "outputs": [],
   "source": [
    "model.save('./model.h5')"
   ]
  }
 ],
 "metadata": {
  "kernelspec": {
   "display_name": "Python 3",
   "language": "python",
   "name": "python3"
  },
  "language_info": {
   "codemirror_mode": {
    "name": "ipython",
    "version": 3
   },
   "file_extension": ".py",
   "mimetype": "text/x-python",
   "name": "python",
   "nbconvert_exporter": "python",
   "pygments_lexer": "ipython3",
   "version": "3.10.0"
  },
  "vscode": {
   "interpreter": {
    "hash": "f0ec4b0e89c119eb2bf145a02ed567940ed0efbda2b6b4ad1ff613fadcc3a6d7"
   }
  }
 },
 "nbformat": 4,
 "nbformat_minor": 5
}
